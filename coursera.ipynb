{
 "cells": [
  {
   "cell_type": "markdown",
   "id": "2d52ac80-ccd7-42ac-a1e5-e3222ea929dd",
   "metadata": {},
   "source": [
    "# Data Science Tools and Ecosystem\n"
   ]
  },
  {
   "cell_type": "markdown",
   "id": "daa08ed7-4624-4d71-9e6a-f73a2d3a692e",
   "metadata": {},
   "source": [
    "In this notebook, we summarize some of the most popular tools, languages, and libraries used in Data Science.  \n",
    "We will also perform a few basic arithmetic operations to demonstrate code execution in JupyterLite Notebook.\n"
   ]
  },
  {
   "cell_type": "markdown",
   "id": "e66aebdf-2416-49f9-b778-7a6ef0e0fe3d",
   "metadata": {},
   "source": [
    "## Data Science Languages\n",
    "Some of the most popular languages used by Data Scientists include:\n",
    "- Python\n",
    "- R\n",
    "- SQL\n",
    "- Julia\n",
    "- Scala\n"
   ]
  },
  {
   "cell_type": "markdown",
   "id": "f7a4cc29-3f40-47b9-9098-b1298fafc0ed",
   "metadata": {},
   "source": [
    "## Data Science Libraries\n",
    "Some commonly used libraries for Data Science are:\n",
    "- Pandas\n",
    "- NumPy\n",
    "- Matplotlib\n",
    "- Scikit-learn\n",
    "- TensorFlow\n",
    "- PyTorch\n"
   ]
  },
  {
   "cell_type": "markdown",
   "id": "701674b0-f537-48a8-a286-2bf7603fa0cb",
   "metadata": {},
   "source": [
    "## Data Science Tools\n",
    "\n",
    "| Tool            | Category               | Usage Example                     |\n",
    "|-----------------|------------------------|------------------------------------|\n",
    "| Jupyter Notebook| IDE / Notebook         | Interactive coding and analysis   |\n",
    "| RStudio         | IDE                    | R programming environment         |\n",
    "| Apache Spark    | Big Data Processing    | Distributed computing             |\n",
    "| TensorFlow      | Machine Learning       | Deep learning models              |\n",
    "| Tableau         | Data Visualization     | Dashboards and reports            |\n"
   ]
  },
  {
   "cell_type": "markdown",
   "id": "10ef547b-1e65-483d-9575-d18581d11059",
   "metadata": {},
   "source": [
    "### Below are a few examples of evaluating arithmetic expressions in Python.\n"
   ]
  },
  {
   "cell_type": "code",
   "execution_count": 2,
   "id": "567a4d6c-4e9a-4ad0-9b0d-3cb94cebd3f0",
   "metadata": {},
   "outputs": [
    {
     "data": {
      "text/plain": [
       "17"
      ]
     },
     "execution_count": 2,
     "metadata": {},
     "output_type": "execute_result"
    }
   ],
   "source": [
    "# Multiply and add numbers\n",
    "(3 * 4) + 5\n"
   ]
  },
  {
   "cell_type": "code",
   "execution_count": 3,
   "id": "482c4ff3-738d-4416-857b-f953e440a626",
   "metadata": {},
   "outputs": [
    {
     "data": {
      "text/plain": [
       "3.3333333333333335"
      ]
     },
     "execution_count": 3,
     "metadata": {},
     "output_type": "execute_result"
    }
   ],
   "source": [
    "# Convert minutes to hours\n",
    "minutes = 200\n",
    "hours = minutes / 60\n",
    "hours\n"
   ]
  },
  {
   "cell_type": "markdown",
   "id": "ef92835e-949b-445b-91ce-4a41bc970b50",
   "metadata": {},
   "source": [
    "## Objectives\n",
    "- List popular languages for Data Science\n",
    "- Identify common libraries for Data Science\n",
    "- Present a table of Data Science tools\n",
    "- Perform arithmetic operations using Python\n",
    "- Convert units in Python\n"
   ]
  },
  {
   "cell_type": "markdown",
   "id": "783e5a20-2fba-49f3-a41c-a93e4916355f",
   "metadata": {},
   "source": [
    "## Author\n",
    "Paromita Karmakar\n"
   ]
  },
  {
   "cell_type": "code",
   "execution_count": null,
   "id": "b5bac9f3-260c-4199-8719-ba0effd45994",
   "metadata": {},
   "outputs": [],
   "source": []
  }
 ],
 "metadata": {
  "kernelspec": {
   "display_name": "Python 3 (ipykernel)",
   "language": "python",
   "name": "python3"
  },
  "language_info": {
   "codemirror_mode": {
    "name": "ipython",
    "version": 3
   },
   "file_extension": ".py",
   "mimetype": "text/x-python",
   "name": "python",
   "nbconvert_exporter": "python",
   "pygments_lexer": "ipython3",
   "version": "3.13.5"
  }
 },
 "nbformat": 4,
 "nbformat_minor": 5
}
